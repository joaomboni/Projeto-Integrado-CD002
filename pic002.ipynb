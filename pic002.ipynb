{
 "cells": [
  {
   "cell_type": "markdown",
   "metadata": {},
   "source": [
    "<h1><u>Atividade 3</u></h1>\n",
    "\n",
    "<h4>Projeto Integrado de Competência em Ciência de Dados</h4>\n",
    "<p><em>Ao final de uma competição de Ciências em uma Escola, restaram apenas três candidatos. De acordo com as regras, o vencedor será o candidato que obtiver a maior média ponderada entre as notas das provas finais de Química e Física, considerando, respectivamente, os pesos 4 e 6 para elas.\n",
    "Faça um Programa utilizando a linguagem Python que solicite as notas de Química e de Física de cada um dos três candidatos. Calcule e mostre a média ponderada de cada um e mostre o vencedor, ou seja, o que possuir a maior média ponderada.</em></p>"
   ]
  },
  {
   "cell_type": "code",
   "execution_count": 68,
   "metadata": {},
   "outputs": [],
   "source": [
    "total_loops = 1\n",
    "peso_quimica = 4\n",
    "peso_fisica = 6"
   ]
  },
  {
   "cell_type": "code",
   "execution_count": 69,
   "metadata": {},
   "outputs": [
    {
     "name": "stdout",
     "output_type": "stream",
     "text": [
      "O aluno 3 é o campeão com média ponderada de 3.75\n",
      "0\n"
     ]
    }
   ],
   "source": [
    "def funcao_pesquisa():\n",
    "    for i in range(total_loops):\n",
    "        notas_quimica_aluno1 = float(input(\"Aluno 1, Qual foi sua nota em quimica : \"))\n",
    "        notas_fisica_aluno1 = float(input(\"Aluno 1, qual foi sua nota em fisica\"))\n",
    "\n",
    "        notas_quimica_aluno2 = float(input(\"Aluno 2, Qual foi sua nota em quimica: \"))\n",
    "        notas_fisica_aluno2 = float(input(\"Aluno 2, qual foi sua nota em fisica\"))\n",
    "\n",
    "        notas_quimica_aluno3 = float(input(\"Aluno 3, Qual foi sua nota em quimica: \"))\n",
    "        notas_fisica_aluno3 = float(input(\"Aluno 3, 1qual foi sua nota em fisica\"))\n",
    "    \n",
    "        \n",
    "        aluno1_media = ((notas_quimica_aluno1*peso_quimica) + (notas_fisica_aluno1*peso_fisica)) / (peso_quimica*peso_fisica)\n",
    "        aluno2_media = ((notas_quimica_aluno2*peso_quimica) + (notas_fisica_aluno2*peso_fisica)) / (peso_quimica*peso_fisica)\n",
    "        aluno3_media = ((notas_quimica_aluno3*peso_quimica) + (notas_fisica_aluno3*peso_fisica)) / (peso_quimica*peso_fisica)\n",
    "\n",
    "        if(aluno1_media > aluno2_media) and (aluno1_media > aluno3_media):\n",
    "            print(f\"aluno 1 é o campeão com média ponderada de {aluno1_media:.2f}\")\n",
    "        if(aluno2_media > aluno1_media) and (aluno2_media > aluno3_media):\n",
    "            print(f\"aluno 2 é o campeão com média ponderada de {aluno2_media:.2f}\")\n",
    "        elif(aluno3_media > aluno1_media) and (aluno3_media > aluno2_media):\n",
    "            print(f\"O aluno 3 é o campeão com média ponderada de {aluno3_media:.2f}\")\n",
    "    return \n",
    "\n",
    "print(funcao_pesquisa())\n"
   ]
  }
 ],
 "metadata": {
  "interpreter": {
   "hash": "46b936ff1622c326d442b837a2b71fa5dbcf20e52e3a75b5ec5a0d8bfc7f438d"
  },
  "kernelspec": {
   "display_name": "Python 3.8.8 ('base')",
   "language": "python",
   "name": "python3"
  },
  "language_info": {
   "codemirror_mode": {
    "name": "ipython",
    "version": 3
   },
   "file_extension": ".py",
   "mimetype": "text/x-python",
   "name": "python",
   "nbconvert_exporter": "python",
   "pygments_lexer": "ipython3",
   "version": "3.8.8"
  },
  "orig_nbformat": 4
 },
 "nbformat": 4,
 "nbformat_minor": 2
}
